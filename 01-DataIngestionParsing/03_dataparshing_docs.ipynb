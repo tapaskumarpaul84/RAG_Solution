{
 "cells": [
  {
   "cell_type": "code",
   "execution_count": 1,
   "id": "8913569c",
   "metadata": {},
   "outputs": [
    {
     "name": "stdout",
     "output_type": "stream",
     "text": [
      "all ok\n"
     ]
    }
   ],
   "source": [
    "print(\"all ok\")"
   ]
  },
  {
   "cell_type": "code",
   "execution_count": 1,
   "id": "147cac55",
   "metadata": {},
   "outputs": [],
   "source": [
    "from langchain_community.document_loaders import Docx2txtLoader,UnstructuredWordDocumentLoader\n",
    "\n"
   ]
  },
  {
   "cell_type": "code",
   "execution_count": 2,
   "id": "543486b1",
   "metadata": {},
   "outputs": [
    {
     "name": "stdout",
     "output_type": "stream",
     "text": [
      "Number of documents: 1\n",
      "content preview: Project Proposal: RAG Implementation\n",
      "\n",
      "Executive Summary\n",
      "\n",
      "This proposal outlines the implementation of a Retrieval-Augmented Generation system for our organization.\n",
      "\n",
      "Objectives\n",
      "\n",
      "Key objectives include:\n",
      "Metadata details: {'source': '..\\\\data\\\\proposal.docx'}\n"
     ]
    }
   ],
   "source": [
    "#method-1: Docx2txtLoader\n",
    "\n",
    "try:\n",
    "    docx_loader=Docx2txtLoader(r'..\\data\\proposal.docx')\n",
    "    docs_text=docx_loader.load()\n",
    "    print(f\"Number of documents: {len(docs_text)}\")\n",
    "    print(f\"content preview: {docs_text[0].page_content[:200]}\")\n",
    "    print(f\"Metadata details: {docs_text[0].metadata}\")\n",
    "except Exception as e:\n",
    "    print(f\"Error : {str(e)}\")"
   ]
  },
  {
   "cell_type": "code",
   "execution_count": 4,
   "id": "329aa9ad",
   "metadata": {},
   "outputs": [
    {
     "name": "stdout",
     "output_type": "stream",
     "text": [
      "Total number of pages: 20\n",
      "\n",
      " Element 1\n",
      "Type: Title\n",
      "Content: Project Proposal: RAG Implementation\n",
      "\n",
      " Element 2\n",
      "Type: Title\n",
      "Content: Executive Summary\n",
      "\n",
      " Element 3\n",
      "Type: NarrativeText\n",
      "Content: This proposal outlines the implementation of a Retrieval-Augmented Generation system for our organiz\n"
     ]
    }
   ],
   "source": [
    "# method-2: UnstructuredWordDocumentLoader\n",
    "\n",
    "try:\n",
    "    unst_docx_loader=UnstructuredWordDocumentLoader(r'..\\data\\proposal.docx',mode='elements')\n",
    "    docs_text_data=unst_docx_loader.load()\n",
    "    print(f\"Total number of pages: {len(docs_text_data)}\")\n",
    "    for i,doc in enumerate(docs_text_data[:3]):\n",
    "        print(f\"\\n Element {i+1}\")\n",
    "        print(f\"Type: {doc.metadata.get('category','unknown')}\")\n",
    "        print(f\"Content: {doc.page_content[:100]}\")\n",
    "except Exception as e:\n",
    "    print(f\"Error: {str(e)}\")"
   ]
  },
  {
   "cell_type": "code",
   "execution_count": 7,
   "id": "39865ccc",
   "metadata": {},
   "outputs": [
    {
     "data": {
      "text/plain": [
       "{'source': '..\\\\data\\\\proposal.docx',\n",
       " 'category_depth': 0,\n",
       " 'file_directory': '..\\\\data',\n",
       " 'filename': 'proposal.docx',\n",
       " 'last_modified': '2025-06-28T15:37:12',\n",
       " 'languages': ['eng'],\n",
       " 'filetype': 'application/vnd.openxmlformats-officedocument.wordprocessingml.document',\n",
       " 'category': 'Title',\n",
       " 'element_id': 'bb0410bfd160ef866f8d4357b0949db2'}"
      ]
     },
     "execution_count": 7,
     "metadata": {},
     "output_type": "execute_result"
    }
   ],
   "source": [
    "docs_text_data[0].metadata"
   ]
  },
  {
   "cell_type": "code",
   "execution_count": 8,
   "id": "18ef9d16",
   "metadata": {},
   "outputs": [
    {
     "data": {
      "text/plain": [
       "'Project Proposal: RAG Implementation'"
      ]
     },
     "execution_count": 8,
     "metadata": {},
     "output_type": "execute_result"
    }
   ],
   "source": [
    "docs_text_data[0].page_content"
   ]
  },
  {
   "cell_type": "code",
   "execution_count": 9,
   "id": "932e2ebc",
   "metadata": {},
   "outputs": [
    {
     "data": {
      "text/plain": [
       "'Phase Duration Deliverables Research 2 weeks Technology evaluation report Development 8 weeks Working RAG prototype Testing 2 weeks Performance benchmarks'"
      ]
     },
     "execution_count": 9,
     "metadata": {},
     "output_type": "execute_result"
    }
   ],
   "source": [
    "docs_text_data[-1].page_content"
   ]
  },
  {
   "cell_type": "code",
   "execution_count": 11,
   "id": "bdf926ed",
   "metadata": {},
   "outputs": [
    {
     "data": {
      "text/plain": [
       "{'source': '..\\\\data\\\\proposal.docx',\n",
       " 'file_directory': '..\\\\data',\n",
       " 'filename': 'proposal.docx',\n",
       " 'last_modified': '2025-06-28T15:37:12',\n",
       " 'text_as_html': '<table><tr><td>Phase</td><td>Duration</td><td>Deliverables</td></tr><tr><td>Research</td><td>2 weeks</td><td>Technology evaluation report</td></tr><tr><td>Development</td><td>8 weeks</td><td>Working RAG prototype</td></tr><tr><td>Testing</td><td>2 weeks</td><td>Performance benchmarks</td></tr></table>',\n",
       " 'languages': ['eng'],\n",
       " 'filetype': 'application/vnd.openxmlformats-officedocument.wordprocessingml.document',\n",
       " 'parent_id': '7da2807bf22f20a489b6af8e62840a5a',\n",
       " 'category': 'Table',\n",
       " 'element_id': 'e551119ba54073b0c9a4ac4d95ac929f'}"
      ]
     },
     "execution_count": 11,
     "metadata": {},
     "output_type": "execute_result"
    }
   ],
   "source": [
    "docs_text_data[-1].metadata"
   ]
  },
  {
   "cell_type": "code",
   "execution_count": 10,
   "id": "4a85bb14",
   "metadata": {},
   "outputs": [
    {
     "data": {
      "text/plain": [
       "[Document(metadata={'source': '..\\\\data\\\\proposal.docx', 'category_depth': 0, 'file_directory': '..\\\\data', 'filename': 'proposal.docx', 'last_modified': '2025-06-28T15:37:12', 'languages': ['eng'], 'filetype': 'application/vnd.openxmlformats-officedocument.wordprocessingml.document', 'category': 'Title', 'element_id': 'bb0410bfd160ef866f8d4357b0949db2'}, page_content='Project Proposal: RAG Implementation'),\n",
       " Document(metadata={'source': '..\\\\data\\\\proposal.docx', 'category_depth': 0, 'file_directory': '..\\\\data', 'filename': 'proposal.docx', 'last_modified': '2025-06-28T15:37:12', 'languages': ['eng'], 'filetype': 'application/vnd.openxmlformats-officedocument.wordprocessingml.document', 'category': 'Title', 'element_id': 'c0f844859abf08d9506856b3aed4a719'}, page_content='Executive Summary'),\n",
       " Document(metadata={'source': '..\\\\data\\\\proposal.docx', 'category_depth': 0, 'file_directory': '..\\\\data', 'filename': 'proposal.docx', 'last_modified': '2025-06-28T15:37:12', 'languages': ['eng'], 'filetype': 'application/vnd.openxmlformats-officedocument.wordprocessingml.document', 'parent_id': 'c0f844859abf08d9506856b3aed4a719', 'category': 'NarrativeText', 'element_id': 'bbc04fc71e33a92df30d7fe7c33b6375'}, page_content='This proposal outlines the implementation of a Retrieval-Augmented Generation system for our organization.'),\n",
       " Document(metadata={'source': '..\\\\data\\\\proposal.docx', 'category_depth': 0, 'file_directory': '..\\\\data', 'filename': 'proposal.docx', 'last_modified': '2025-06-28T15:37:12', 'languages': ['eng'], 'filetype': 'application/vnd.openxmlformats-officedocument.wordprocessingml.document', 'category': 'Title', 'element_id': 'a2c8ca6c90e23196fcf4be625007bbd6'}, page_content='Objectives'),\n",
       " Document(metadata={'source': '..\\\\data\\\\proposal.docx', 'category_depth': 0, 'file_directory': '..\\\\data', 'filename': 'proposal.docx', 'last_modified': '2025-06-28T15:37:12', 'languages': ['eng'], 'filetype': 'application/vnd.openxmlformats-officedocument.wordprocessingml.document', 'parent_id': 'a2c8ca6c90e23196fcf4be625007bbd6', 'category': 'NarrativeText', 'element_id': '335654d234a93f0eb1e1e6798c633eb7'}, page_content='Key objectives include:'),\n",
       " Document(metadata={'source': '..\\\\data\\\\proposal.docx', 'category_depth': 0, 'file_directory': '..\\\\data', 'filename': 'proposal.docx', 'last_modified': '2025-06-28T15:37:12', 'languages': ['eng'], 'filetype': 'application/vnd.openxmlformats-officedocument.wordprocessingml.document', 'parent_id': 'a2c8ca6c90e23196fcf4be625007bbd6', 'category': 'ListItem', 'element_id': 'a62787f7e487c3715929cc34a512d2df'}, page_content='Improve information retrieval accuracy'),\n",
       " Document(metadata={'source': '..\\\\data\\\\proposal.docx', 'category_depth': 0, 'file_directory': '..\\\\data', 'filename': 'proposal.docx', 'last_modified': '2025-06-28T15:37:12', 'languages': ['eng'], 'filetype': 'application/vnd.openxmlformats-officedocument.wordprocessingml.document', 'parent_id': 'a2c8ca6c90e23196fcf4be625007bbd6', 'category': 'ListItem', 'element_id': '7403c111f034d07762a2ea3f9e77fd55'}, page_content='Reduce response time for customer queries'),\n",
       " Document(metadata={'source': '..\\\\data\\\\proposal.docx', 'category_depth': 0, 'file_directory': '..\\\\data', 'filename': 'proposal.docx', 'last_modified': '2025-06-28T15:37:12', 'languages': ['eng'], 'filetype': 'application/vnd.openxmlformats-officedocument.wordprocessingml.document', 'parent_id': 'a2c8ca6c90e23196fcf4be625007bbd6', 'category': 'ListItem', 'element_id': 'b7a32dbf801712e0cbb4301b40fc1332'}, page_content='Integrate with existing knowledge base'),\n",
       " Document(metadata={'source': '..\\\\data\\\\proposal.docx', 'category_depth': 0, 'file_directory': '..\\\\data', 'filename': 'proposal.docx', 'last_modified': '2025-06-28T15:37:12', 'languages': ['eng'], 'filetype': 'application/vnd.openxmlformats-officedocument.wordprocessingml.document', 'category': 'Title', 'element_id': '03384feebdc9dbc6c3e66f42a31ae4d4'}, page_content='Budget and Timeline'),\n",
       " Document(metadata={'source': '..\\\\data\\\\proposal.docx', 'category_depth': 0, 'file_directory': '..\\\\data', 'filename': 'proposal.docx', 'last_modified': '2025-06-28T15:37:12', 'languages': ['eng'], 'filetype': 'application/vnd.openxmlformats-officedocument.wordprocessingml.document', 'parent_id': '03384feebdc9dbc6c3e66f42a31ae4d4', 'category': 'UncategorizedText', 'element_id': '2b656c76dce795af739297289ec70cb4'}, page_content='Budget: $50,000'),\n",
       " Document(metadata={'source': '..\\\\data\\\\proposal.docx', 'category_depth': 0, 'file_directory': '..\\\\data', 'filename': 'proposal.docx', 'last_modified': '2025-06-28T15:37:12', 'languages': ['eng'], 'filetype': 'application/vnd.openxmlformats-officedocument.wordprocessingml.document', 'parent_id': '03384feebdc9dbc6c3e66f42a31ae4d4', 'category': 'UncategorizedText', 'element_id': '579456f56ae28a18e9113d256cf0c677'}, page_content='Timeline: 3 months'),\n",
       " Document(metadata={'source': '..\\\\data\\\\proposal.docx', 'category_depth': 0, 'file_directory': '..\\\\data', 'filename': 'proposal.docx', 'last_modified': '2025-06-28T15:37:12', 'languages': ['eng'], 'filetype': 'application/vnd.openxmlformats-officedocument.wordprocessingml.document', 'parent_id': '03384feebdc9dbc6c3e66f42a31ae4d4', 'category': 'UncategorizedText', 'element_id': 'cd21a830803498d697e79322b08cb621'}, page_content='Team: 4 developers, 1 project manager'),\n",
       " Document(metadata={'source': '..\\\\data\\\\proposal.docx', 'category_depth': 0, 'file_directory': '..\\\\data', 'filename': 'proposal.docx', 'last_modified': '2025-06-28T15:37:12', 'languages': ['eng'], 'filetype': 'application/vnd.openxmlformats-officedocument.wordprocessingml.document', 'category': 'Title', 'element_id': '79f776a9342d2b31ac42ee74e884601d'}, page_content='Technical Requirements'),\n",
       " Document(metadata={'source': '..\\\\data\\\\proposal.docx', 'category_depth': 0, 'file_directory': '..\\\\data', 'filename': 'proposal.docx', 'last_modified': '2025-06-28T15:37:12', 'languages': ['eng'], 'filetype': 'application/vnd.openxmlformats-officedocument.wordprocessingml.document', 'parent_id': '79f776a9342d2b31ac42ee74e884601d', 'category': 'NarrativeText', 'element_id': 'bd3ed1f0473cc4dc2a91175293045731'}, page_content='Required technologies:'),\n",
       " Document(metadata={'source': '..\\\\data\\\\proposal.docx', 'category_depth': 0, 'file_directory': '..\\\\data', 'filename': 'proposal.docx', 'last_modified': '2025-06-28T15:37:12', 'languages': ['eng'], 'filetype': 'application/vnd.openxmlformats-officedocument.wordprocessingml.document', 'parent_id': '79f776a9342d2b31ac42ee74e884601d', 'category': 'ListItem', 'element_id': 'bd3174066f748a60216ee2b8fec3e3c9'}, page_content='Python 3.8+'),\n",
       " Document(metadata={'source': '..\\\\data\\\\proposal.docx', 'category_depth': 0, 'file_directory': '..\\\\data', 'filename': 'proposal.docx', 'last_modified': '2025-06-28T15:37:12', 'languages': ['eng'], 'filetype': 'application/vnd.openxmlformats-officedocument.wordprocessingml.document', 'parent_id': '79f776a9342d2b31ac42ee74e884601d', 'category': 'ListItem', 'element_id': 'e9c9cf7f0ab0b8741759b94fde3ca1ec'}, page_content='OpenAI API access'),\n",
       " Document(metadata={'source': '..\\\\data\\\\proposal.docx', 'category_depth': 0, 'file_directory': '..\\\\data', 'filename': 'proposal.docx', 'last_modified': '2025-06-28T15:37:12', 'languages': ['eng'], 'filetype': 'application/vnd.openxmlformats-officedocument.wordprocessingml.document', 'parent_id': '79f776a9342d2b31ac42ee74e884601d', 'category': 'ListItem', 'element_id': 'c7afb3a7eb2cda7dfb6b6ca21f84a62c'}, page_content='Vector database (ChromaDB)'),\n",
       " Document(metadata={'source': '..\\\\data\\\\proposal.docx', 'category_depth': 0, 'file_directory': '..\\\\data', 'filename': 'proposal.docx', 'last_modified': '2025-06-28T15:37:12', 'languages': ['eng'], 'filetype': 'application/vnd.openxmlformats-officedocument.wordprocessingml.document', 'parent_id': '79f776a9342d2b31ac42ee74e884601d', 'category': 'ListItem', 'element_id': 'a5c92389ea9457df2863111aa3643e9f'}, page_content='16GB RAM minimum'),\n",
       " Document(metadata={'source': '..\\\\data\\\\proposal.docx', 'category_depth': 0, 'file_directory': '..\\\\data', 'filename': 'proposal.docx', 'last_modified': '2025-06-28T15:37:12', 'languages': ['eng'], 'filetype': 'application/vnd.openxmlformats-officedocument.wordprocessingml.document', 'category': 'Title', 'element_id': '7da2807bf22f20a489b6af8e62840a5a'}, page_content='Project Phases'),\n",
       " Document(metadata={'source': '..\\\\data\\\\proposal.docx', 'file_directory': '..\\\\data', 'filename': 'proposal.docx', 'last_modified': '2025-06-28T15:37:12', 'text_as_html': '<table><tr><td>Phase</td><td>Duration</td><td>Deliverables</td></tr><tr><td>Research</td><td>2 weeks</td><td>Technology evaluation report</td></tr><tr><td>Development</td><td>8 weeks</td><td>Working RAG prototype</td></tr><tr><td>Testing</td><td>2 weeks</td><td>Performance benchmarks</td></tr></table>', 'languages': ['eng'], 'filetype': 'application/vnd.openxmlformats-officedocument.wordprocessingml.document', 'parent_id': '7da2807bf22f20a489b6af8e62840a5a', 'category': 'Table', 'element_id': 'e551119ba54073b0c9a4ac4d95ac929f'}, page_content='Phase Duration Deliverables Research 2 weeks Technology evaluation report Development 8 weeks Working RAG prototype Testing 2 weeks Performance benchmarks')]"
      ]
     },
     "execution_count": 10,
     "metadata": {},
     "output_type": "execute_result"
    }
   ],
   "source": [
    "docs_text_data"
   ]
  },
  {
   "cell_type": "code",
   "execution_count": null,
   "id": "808c1474",
   "metadata": {},
   "outputs": [],
   "source": []
  }
 ],
 "metadata": {
  "kernelspec": {
   "display_name": "rag-solution",
   "language": "python",
   "name": "python3"
  },
  "language_info": {
   "codemirror_mode": {
    "name": "ipython",
    "version": 3
   },
   "file_extension": ".py",
   "mimetype": "text/x-python",
   "name": "python",
   "nbconvert_exporter": "python",
   "pygments_lexer": "ipython3",
   "version": "3.11.13"
  }
 },
 "nbformat": 4,
 "nbformat_minor": 5
}
