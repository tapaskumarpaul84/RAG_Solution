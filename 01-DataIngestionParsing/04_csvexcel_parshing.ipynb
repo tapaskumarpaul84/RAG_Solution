{
 "cells": [
  {
   "cell_type": "code",
   "execution_count": 1,
   "id": "ffea13af",
   "metadata": {},
   "outputs": [
    {
     "name": "stdout",
     "output_type": "stream",
     "text": [
      "all ok\n"
     ]
    }
   ],
   "source": [
    "print(\"all ok\")"
   ]
  },
  {
   "cell_type": "code",
   "execution_count": 2,
   "id": "9b3370b4",
   "metadata": {},
   "outputs": [],
   "source": [
    "### CSV processing\n",
    "\n",
    "from langchain_community.document_loaders import CSVLoader,UnstructuredCSVLoader"
   ]
  },
  {
   "cell_type": "code",
   "execution_count": 3,
   "id": "7bd8b32e",
   "metadata": {},
   "outputs": [
    {
     "name": "stdout",
     "output_type": "stream",
     "text": [
      "Loaded 5 documents (one per row)\n",
      "\n",
      "First document:\n",
      "content: Product: Laptop\n",
      "Category: Electronics\n",
      "Price: 999.99\n",
      "Stock: 50\n",
      "Description: High-performance laptop with 16GB RAM and 512GB SSD\n",
      "metadata: {'source': '..\\\\data\\\\products.csv', 'row': 0}\n"
     ]
    }
   ],
   "source": [
    "csv_loader=CSVLoader(\n",
    "    file_path='..\\data\\products.csv',\n",
    "    encoding='utf-8',\n",
    "    csv_args={\n",
    "        'delimiter':',',\n",
    "        'quotechar':'\"'\n",
    "    }\n",
    ")\n",
    "csv_docs=csv_loader.load()\n",
    "print(f\"Loaded {len(csv_docs)} documents (one per row)\")\n",
    "print(\"\\nFirst document:\")\n",
    "print(f\"content: {csv_docs[0].page_content}\")\n",
    "print(f\"metadata: {csv_docs[0].metadata}\")"
   ]
  },
  {
   "cell_type": "code",
   "execution_count": 4,
   "id": "fc2add9a",
   "metadata": {},
   "outputs": [
    {
     "data": {
      "text/plain": [
       "[Document(metadata={'source': '..\\\\data\\\\products.csv', 'row': 0}, page_content='Product: Laptop\\nCategory: Electronics\\nPrice: 999.99\\nStock: 50\\nDescription: High-performance laptop with 16GB RAM and 512GB SSD'),\n",
       " Document(metadata={'source': '..\\\\data\\\\products.csv', 'row': 1}, page_content='Product: Mouse\\nCategory: Accessories\\nPrice: 29.99\\nStock: 200\\nDescription: Wireless optical mouse with ergonomic design'),\n",
       " Document(metadata={'source': '..\\\\data\\\\products.csv', 'row': 2}, page_content='Product: Keyboard\\nCategory: Accessories\\nPrice: 79.99\\nStock: 150\\nDescription: Mechanical keyboard with RGB backlighting'),\n",
       " Document(metadata={'source': '..\\\\data\\\\products.csv', 'row': 3}, page_content='Product: Monitor\\nCategory: Electronics\\nPrice: 299.99\\nStock: 75\\nDescription: 27-inch 4K monitor with HDR support'),\n",
       " Document(metadata={'source': '..\\\\data\\\\products.csv', 'row': 4}, page_content='Product: Webcam\\nCategory: Electronics\\nPrice: 89.99\\nStock: 100\\nDescription: 1080p webcam with noise cancellation')]"
      ]
     },
     "execution_count": 4,
     "metadata": {},
     "output_type": "execute_result"
    }
   ],
   "source": [
    "csv_docs"
   ]
  },
  {
   "cell_type": "code",
   "execution_count": 35,
   "id": "6deca69a",
   "metadata": {},
   "outputs": [
    {
     "name": "stdout",
     "output_type": "stream",
     "text": [
      "total records: 1\n",
      "page_content='Product Category Price Stock Description Laptop Electronics 999.99 50 High-performance laptop with 16GB RAM and 512GB SSD Mouse Accessories 29.99 200 Wireless optical mouse with ergonomic design Keyboard Accessories 79.99 150 Mechanical keyboard with RGB backlighting Monitor Electronics 299.99 75 27-inch 4K monitor with HDR support Webcam Electronics 89.99 100 1080p webcam with noise cancellation' metadata={'source': '..\\\\data\\\\products.csv', 'file_directory': '..\\\\data', 'filename': 'products.csv', 'last_modified': '2025-07-07T14:24:28', 'text_as_html': '<table><tr><td>Product</td><td>Category</td><td>Price</td><td>Stock</td><td>Description</td></tr><tr><td>Laptop</td><td>Electronics</td><td>999.99</td><td>50</td><td>High-performance laptop with 16GB RAM and 512GB SSD</td></tr><tr><td>Mouse</td><td>Accessories</td><td>29.99</td><td>200</td><td>Wireless optical mouse with ergonomic design</td></tr><tr><td>Keyboard</td><td>Accessories</td><td>79.99</td><td>150</td><td>Mechanical keyboard with RGB backlighting</td></tr><tr><td>Monitor</td><td>Electronics</td><td>299.99</td><td>75</td><td>27-inch 4K monitor with HDR support</td></tr><tr><td>Webcam</td><td>Electronics</td><td>89.99</td><td>100</td><td>1080p webcam with noise cancellation</td></tr></table>', 'languages': ['eng'], 'filetype': 'text/csv', 'category': 'Table', 'element_id': '77a93fb08729d13305798542c92d227c'}\n"
     ]
    }
   ],
   "source": [
    "unstructure_csv_loader=UnstructuredCSVLoader(r'..\\data\\products.csv',mode='elements')\n",
    "\n",
    "csv_docs=unstructure_csv_loader.load()\n",
    "print(\"total records:\",len(csv_docs))\n",
    "print(csv_docs[0])"
   ]
  },
  {
   "cell_type": "code",
   "execution_count": 8,
   "id": "db9a636e",
   "metadata": {},
   "outputs": [
    {
     "data": {
      "text/plain": [
       "[Document(metadata={'source': '..\\\\data\\\\products.csv'}, page_content='Product Category Price Stock Description Laptop Electronics 999.99 50 High-performance laptop with 16GB RAM and 512GB SSD Mouse Accessories 29.99 200 Wireless optical mouse with ergonomic design Keyboard Accessories 79.99 150 Mechanical keyboard with RGB backlighting Monitor Electronics 299.99 75 27-inch 4K monitor with HDR support Webcam Electronics 89.99 100 1080p webcam with noise cancellation')]"
      ]
     },
     "execution_count": 8,
     "metadata": {},
     "output_type": "execute_result"
    }
   ],
   "source": [
    "csv_docs"
   ]
  },
  {
   "cell_type": "code",
   "execution_count": 32,
   "id": "2e059f93",
   "metadata": {},
   "outputs": [],
   "source": [
    "### Custom CSV loader\n",
    "from typing import List\n",
    "from langchain_core.documents import Document\n",
    "import pandas as pd\n",
    "def my_csv_loader(path:str)->List[Document]:\n",
    "    df=pd.read_csv(path)\n",
    "    document=[]\n",
    "    for i in range(len(df)):\n",
    "        data=dict()\n",
    "        for col in df.columns:\n",
    "            data[col]=str(df[col][i])\n",
    "\n",
    "        doc=Document(\n",
    "            page_content=str(data),\n",
    "            metadata={\n",
    "                \"source\": path,\n",
    "                \"row_index\": i,\n",
    "                \"parser\": \"custom_parser\",\n",
    "                \"filetype\": \"csv\"\n",
    "            }\n",
    "        )\n",
    "        document.append(doc)\n",
    "    return document"
   ]
  },
  {
   "cell_type": "code",
   "execution_count": 33,
   "id": "e250687d",
   "metadata": {},
   "outputs": [
    {
     "data": {
      "text/plain": [
       "[Document(metadata={'source': '..\\\\data\\\\products.csv', 'row_index': 0, 'parser': 'custom_parser', 'filetype': 'csv'}, page_content=\"{'Product': 'Laptop', 'Category': 'Electronics', 'Price': '999.99', 'Stock': '50', 'Description': 'High-performance laptop with 16GB RAM and 512GB SSD'}\"),\n",
       " Document(metadata={'source': '..\\\\data\\\\products.csv', 'row_index': 1, 'parser': 'custom_parser', 'filetype': 'csv'}, page_content=\"{'Product': 'Mouse', 'Category': 'Accessories', 'Price': '29.99', 'Stock': '200', 'Description': 'Wireless optical mouse with ergonomic design'}\"),\n",
       " Document(metadata={'source': '..\\\\data\\\\products.csv', 'row_index': 2, 'parser': 'custom_parser', 'filetype': 'csv'}, page_content=\"{'Product': 'Keyboard', 'Category': 'Accessories', 'Price': '79.99', 'Stock': '150', 'Description': 'Mechanical keyboard with RGB backlighting'}\"),\n",
       " Document(metadata={'source': '..\\\\data\\\\products.csv', 'row_index': 3, 'parser': 'custom_parser', 'filetype': 'csv'}, page_content=\"{'Product': 'Monitor', 'Category': 'Electronics', 'Price': '299.99', 'Stock': '75', 'Description': '27-inch 4K monitor with HDR support'}\"),\n",
       " Document(metadata={'source': '..\\\\data\\\\products.csv', 'row_index': 4, 'parser': 'custom_parser', 'filetype': 'csv'}, page_content=\"{'Product': 'Webcam', 'Category': 'Electronics', 'Price': '89.99', 'Stock': '100', 'Description': '1080p webcam with noise cancellation'}\")]"
      ]
     },
     "execution_count": 33,
     "metadata": {},
     "output_type": "execute_result"
    }
   ],
   "source": [
    "document=my_csv_loader(r'..\\data\\products.csv')\n",
    "document"
   ]
  },
  {
   "cell_type": "markdown",
   "id": "c082ca27",
   "metadata": {},
   "source": [
    "### Excel Loader"
   ]
  },
  {
   "cell_type": "code",
   "execution_count": 38,
   "id": "abb2ff6a",
   "metadata": {},
   "outputs": [
    {
     "name": "stdout",
     "output_type": "stream",
     "text": [
      "sheets: 2\n"
     ]
    }
   ],
   "source": [
    "## langchain unstructuredexcel loader\n",
    "from langchain_community.document_loaders import UnstructuredExcelLoader\n",
    "\n",
    "excel_loader=UnstructuredExcelLoader(r'..\\data\\inventory.xlsx',mode='elements')\n",
    "excel_data=excel_loader.load()\n",
    "\n",
    "print(f\"sheets: {len(excel_data)}\")"
   ]
  },
  {
   "cell_type": "code",
   "execution_count": 39,
   "id": "bd29f347",
   "metadata": {},
   "outputs": [
    {
     "data": {
      "text/plain": [
       "[Document(metadata={'source': '..\\\\data\\\\inventory.xlsx', 'file_directory': '..\\\\data', 'filename': 'inventory.xlsx', 'last_modified': '2025-07-07T14:26:30', 'page_name': 'Products', 'page_number': 1, 'text_as_html': '<table><tr><td>Product</td><td>Category</td><td>Price</td><td>Stock</td><td>Description</td></tr><tr><td>Laptop</td><td>Electronics</td><td>999.99</td><td>50</td><td>High-performance laptop with 16GB RAM and 512GB SSD</td></tr><tr><td>Mouse</td><td>Accessories</td><td>29.99</td><td>200</td><td>Wireless optical mouse with ergonomic design</td></tr><tr><td>Keyboard</td><td>Accessories</td><td>79.99</td><td>150</td><td>Mechanical keyboard with RGB backlighting</td></tr><tr><td>Monitor</td><td>Electronics</td><td>299.99</td><td>75</td><td>27-inch 4K monitor with HDR support</td></tr><tr><td>Webcam</td><td>Electronics</td><td>89.99</td><td>100</td><td>1080p webcam with noise cancellation</td></tr></table>', 'languages': ['eng'], 'filetype': 'application/vnd.openxmlformats-officedocument.spreadsheetml.sheet', 'category': 'Table', 'element_id': '6c3514d8bca67e1cbfa020192b595264'}, page_content='Product Category Price Stock Description Laptop Electronics 999.99 50 High-performance laptop with 16GB RAM and 512GB SSD Mouse Accessories 29.99 200 Wireless optical mouse with ergonomic design Keyboard Accessories 79.99 150 Mechanical keyboard with RGB backlighting Monitor Electronics 299.99 75 27-inch 4K monitor with HDR support Webcam Electronics 89.99 100 1080p webcam with noise cancellation'),\n",
       " Document(metadata={'source': '..\\\\data\\\\inventory.xlsx', 'file_directory': '..\\\\data', 'filename': 'inventory.xlsx', 'last_modified': '2025-07-07T14:26:30', 'page_name': 'Summary', 'page_number': 2, 'text_as_html': '<table><tr><td>Category</td><td>Total_Items</td><td>Total_Value</td></tr><tr><td>Electronics</td><td>3</td><td>1389.97</td></tr><tr><td>Accessories</td><td>2</td><td>109.98</td></tr></table>', 'languages': ['eng'], 'filetype': 'application/vnd.openxmlformats-officedocument.spreadsheetml.sheet', 'category': 'Table', 'element_id': 'dcf57c06f0490353601c69aaefb62f83'}, page_content='Category Total_Items Total_Value Electronics 3 1389.97 Accessories 2 109.98')]"
      ]
     },
     "execution_count": 39,
     "metadata": {},
     "output_type": "execute_result"
    }
   ],
   "source": [
    "excel_data"
   ]
  },
  {
   "cell_type": "code",
   "execution_count": 40,
   "id": "8d7dc481",
   "metadata": {},
   "outputs": [
    {
     "name": "stdout",
     "output_type": "stream",
     "text": [
      "1️⃣ Pandas-based Excel Processing\n"
     ]
    }
   ],
   "source": [
    "# Method 1: Using pandas for full control\n",
    "print(\"1️⃣ Pandas-based Excel Processing\")\n",
    "def process_excel_with_pandas(filepath: str) -> List[Document]:\n",
    "    \"\"\"Process Excel with sheet awareness\"\"\"\n",
    "    documents = []\n",
    "    \n",
    "    # Read all sheets\n",
    "    excel_file = pd.ExcelFile(filepath)\n",
    "    \n",
    "    for sheet_name in excel_file.sheet_names:\n",
    "        df = pd.read_excel(filepath, sheet_name=sheet_name)\n",
    "        \n",
    "        # Create document for each sheet\n",
    "        sheet_content = f\"Sheet: {sheet_name}\\n\"\n",
    "        sheet_content += f\"Columns: {', '.join(df.columns)}\\n\"\n",
    "        sheet_content += f\"Rows: {len(df)}\\n\\n\"\n",
    "        sheet_content += df.to_string(index=False)\n",
    "        \n",
    "        doc = Document(\n",
    "            page_content=sheet_content,\n",
    "            metadata={\n",
    "                'source': filepath,\n",
    "                'sheet_name': sheet_name,\n",
    "                'num_rows': len(df),\n",
    "                'num_columns': len(df.columns),\n",
    "                'data_type': 'excel_sheet'\n",
    "            }\n",
    "        )\n",
    "        documents.append(doc)\n",
    "    \n",
    "    return documents"
   ]
  },
  {
   "cell_type": "code",
   "execution_count": 41,
   "id": "4cc9ce25",
   "metadata": {},
   "outputs": [],
   "source": [
    "documents=process_excel_with_pandas(r'..\\data\\inventory.xlsx')"
   ]
  },
  {
   "cell_type": "code",
   "execution_count": 42,
   "id": "ebd9e8ec",
   "metadata": {},
   "outputs": [
    {
     "data": {
      "text/plain": [
       "[Document(metadata={'source': '..\\\\data\\\\inventory.xlsx', 'sheet_name': 'Products', 'num_rows': 5, 'num_columns': 5, 'data_type': 'excel_sheet'}, page_content='Sheet: Products\\nColumns: Product, Category, Price, Stock, Description\\nRows: 5\\n\\n Product    Category  Price  Stock                                         Description\\n  Laptop Electronics 999.99     50 High-performance laptop with 16GB RAM and 512GB SSD\\n   Mouse Accessories  29.99    200        Wireless optical mouse with ergonomic design\\nKeyboard Accessories  79.99    150           Mechanical keyboard with RGB backlighting\\n Monitor Electronics 299.99     75                 27-inch 4K monitor with HDR support\\n  Webcam Electronics  89.99    100                1080p webcam with noise cancellation'),\n",
       " Document(metadata={'source': '..\\\\data\\\\inventory.xlsx', 'sheet_name': 'Summary', 'num_rows': 2, 'num_columns': 3, 'data_type': 'excel_sheet'}, page_content='Sheet: Summary\\nColumns: Category, Total_Items, Total_Value\\nRows: 2\\n\\n   Category  Total_Items  Total_Value\\nElectronics            3      1389.97\\nAccessories            2       109.98')]"
      ]
     },
     "execution_count": 42,
     "metadata": {},
     "output_type": "execute_result"
    }
   ],
   "source": [
    "documents"
   ]
  },
  {
   "cell_type": "code",
   "execution_count": null,
   "id": "47493876",
   "metadata": {},
   "outputs": [],
   "source": []
  }
 ],
 "metadata": {
  "kernelspec": {
   "display_name": "rag-solution",
   "language": "python",
   "name": "python3"
  },
  "language_info": {
   "codemirror_mode": {
    "name": "ipython",
    "version": 3
   },
   "file_extension": ".py",
   "mimetype": "text/x-python",
   "name": "python",
   "nbconvert_exporter": "python",
   "pygments_lexer": "ipython3",
   "version": "3.11.13"
  }
 },
 "nbformat": 4,
 "nbformat_minor": 5
}
